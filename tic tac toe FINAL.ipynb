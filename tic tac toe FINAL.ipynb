{
 "cells": [
  {
   "cell_type": "code",
   "execution_count": 1,
   "id": "05592d37",
   "metadata": {},
   "outputs": [],
   "source": [
    "tictactoe_board=['']*10"
   ]
  },
  {
   "cell_type": "code",
   "execution_count": 2,
   "id": "df64d32b",
   "metadata": {},
   "outputs": [
    {
     "name": "stdout",
     "output_type": "stream",
     "text": [
      "['', '', '', '', '', '', '', '', '', '']\n"
     ]
    }
   ],
   "source": [
    "print(tictactoe_board)"
   ]
  },
  {
   "cell_type": "code",
   "execution_count": 3,
   "id": "6b0550c1",
   "metadata": {},
   "outputs": [],
   "source": [
    "def print_board(board):\n",
    "    print(board[1]+' | '+ board[2] + ' | '+ board[3])\n",
    "    print('-------')\n",
    "    print(board[4] +' | '+board[5] +' | '+board[6])\n",
    "    print('-------')\n",
    "    print(board[7]+' | '+board[8]+' | '+board[9])"
   ]
  },
  {
   "cell_type": "code",
   "execution_count": 4,
   "id": "b8ff5ba3",
   "metadata": {},
   "outputs": [],
   "source": [
    "import random\n",
    "\n",
    "def player_number():\n",
    "    return random.randint(1,2)\n",
    "   \n",
    "    \n",
    "    "
   ]
  },
  {
   "cell_type": "code",
   "execution_count": 5,
   "id": "0b4d788f",
   "metadata": {},
   "outputs": [],
   "source": [
    "def choose_counter():\n",
    "    counters=['X','O']\n",
    "    choice=False\n",
    "    \n",
    "    while choice not in counters:\n",
    "        choice = input('do you want to be X or O? ' ).upper()\n",
    "    \n",
    "    if choice=='X':\n",
    "        return ('X','O')\n",
    "    else:\n",
    "        return ('O','X')\n",
    "    "
   ]
  },
  {
   "cell_type": "code",
   "execution_count": 6,
   "id": "5208886c",
   "metadata": {},
   "outputs": [],
   "source": [
    "def place_marker(board,position,marker):\n",
    "    board[position]=marker"
   ]
  },
  {
   "cell_type": "code",
   "execution_count": 7,
   "id": "22e83183",
   "metadata": {},
   "outputs": [],
   "source": [
    "def position_choice(board):\n",
    "    options=list(range(1,10))\n",
    "    \n",
    "    position=False\n",
    "   \n",
    "    \n",
    "    while position not in options or not check_square_free(board,position):\n",
    "        position = int(input('what position do you want? choose number 1-9 : '))\n",
    "    return position"
   ]
  },
  {
   "cell_type": "code",
   "execution_count": 8,
   "id": "08dea8ec",
   "metadata": {},
   "outputs": [],
   "source": [
    "def winner(board,sign):\n",
    "    \n",
    "    if board[5]==sign:\n",
    "        if board[1]==sign and board[9]==sign:\n",
    "            return True\n",
    "        if board[3]==sign and board[7]==sign:\n",
    "            return True\n",
    "            \n",
    " \n",
    "    "
   ]
  },
  {
   "cell_type": "code",
   "execution_count": 9,
   "id": "73be4594",
   "metadata": {},
   "outputs": [],
   "source": [
    "def full_board(board):\n",
    "    for each in board:\n",
    "        if each=='X' or each=='O':\n",
    "            return True\n",
    "        else:\n",
    "            return False"
   ]
  },
  {
   "cell_type": "code",
   "execution_count": 10,
   "id": "e904fe65",
   "metadata": {},
   "outputs": [],
   "source": [
    "def replay():\n",
    "    play = input('do you want to play again?Y or N').upper()\n",
    "    \n",
    "    if play == 'Y':\n",
    "        return True\n",
    "    else:\n",
    "        return False\n",
    "    "
   ]
  },
  {
   "cell_type": "code",
   "execution_count": 13,
   "id": "c10938cf",
   "metadata": {},
   "outputs": [],
   "source": [
    "def check_square_free(board,position):\n",
    "\n",
    "    return board[position]==''\n",
    "    "
   ]
  },
  {
   "cell_type": "code",
   "execution_count": 14,
   "id": "2104a600",
   "metadata": {},
   "outputs": [
    {
     "name": "stdout",
     "output_type": "stream",
     "text": [
      " |  | \n",
      "-------\n",
      " |  | \n",
      "-------\n",
      " |  | \n",
      "do you want to be X or O? X\n",
      "player2 will go first\n",
      "ready to play? yes or no?yes\n",
      " |  | \n",
      "-------\n",
      " |  | \n",
      "-------\n",
      " |  | \n",
      "what position do you want? choose number 1-9 : 6\n",
      " |  | \n",
      "-------\n",
      " |  | O\n",
      "-------\n",
      " |  | \n",
      "what position do you want? choose number 1-9 : 5\n",
      " |  | \n",
      "-------\n",
      " | X | O\n",
      "-------\n",
      " |  | \n",
      "what position do you want? choose number 1-9 : 4\n",
      " |  | \n",
      "-------\n",
      "O | X | O\n",
      "-------\n",
      " |  | \n",
      "what position do you want? choose number 1-9 : 4\n",
      "what position do you want? choose number 1-9 : 3\n",
      " |  | X\n",
      "-------\n",
      "O | X | O\n",
      "-------\n",
      " |  | \n",
      "what position do you want? choose number 1-9 : 2\n",
      " | O | X\n",
      "-------\n",
      "O | X | O\n",
      "-------\n",
      " |  | \n",
      "what position do you want? choose number 1-9 : 1\n",
      "X | O | X\n",
      "-------\n",
      "O | X | O\n",
      "-------\n",
      " |  | \n",
      "what position do you want? choose number 1-9 : 8\n",
      "X | O | X\n",
      "-------\n",
      "O | X | O\n",
      "-------\n",
      " | O | \n",
      "what position do you want? choose number 1-9 : 7\n",
      "X | O | X\n",
      "-------\n",
      "O | X | O\n",
      "-------\n",
      "X | O | \n",
      "player 1 has won\n",
      "do you want to play again?Y or N6\n"
     ]
    }
   ],
   "source": [
    "while True:\n",
    "\n",
    "    #reset the board\n",
    "    tictactoe_board=['']*10\n",
    "    print_board(tictactoe_board)\n",
    "    p1counter,p2counter=choose_counter()\n",
    "    player=player_number()\n",
    "    \n",
    "    print(f'player{player} will go first')\n",
    "    \n",
    "    play_game = input('ready to play? yes or no?').lower()\n",
    "    \n",
    "    if play_game=='yes':\n",
    "        gameon=True\n",
    "    else:\n",
    "        gameon=False\n",
    "    \n",
    "    while gameon==True:\n",
    "        #player1\n",
    "        if player==1:\n",
    "            \n",
    "            print_board(tictactoe_board)\n",
    "            position=position_choice(tictactoe_board)\n",
    "            place_marker(tictactoe_board,position, p1counter)\n",
    "        \n",
    "            if winner(tictactoe_board,p1counter):\n",
    "                print_board(tictactoe_board)\n",
    "                print('player 1 has won')\n",
    "                gameon=False\n",
    "            else:\n",
    "                if full_board(tictactoe_board):\n",
    "                    print_board(tictactoe_board)\n",
    "                    print('game is a draw')\n",
    "                    break\n",
    "                else:\n",
    "                    player=2\n",
    "        \n",
    "        else:\n",
    "            print_board(tictactoe_board)\n",
    "            position=position_choice(tictactoe_board)\n",
    "            place_marker(tictactoe_board,position, p2counter)\n",
    "            \n",
    "            if winner(tictactoe_board,p2counter):\n",
    "                print_board(tictactoe_board)\n",
    "                print('player 2 has won')\n",
    "                gameon=False\n",
    "            else:\n",
    "                if full_board(tictactoe_board):\n",
    "                    print_board(tictactoe_board)\n",
    "                    print('game is a draw')\n",
    "                    break\n",
    "                else:\n",
    "                    player=1\n",
    "                    \n",
    "    if not replay():\n",
    "        break\n",
    "        \n",
    "        \n",
    "    \n",
    "    "
   ]
  },
  {
   "cell_type": "markdown",
   "id": "96a99614",
   "metadata": {},
   "source": [
    "y\n"
   ]
  },
  {
   "cell_type": "code",
   "execution_count": null,
   "id": "ddba5cde",
   "metadata": {},
   "outputs": [],
   "source": [
    "Y\n"
   ]
  }
 ],
 "metadata": {
  "kernelspec": {
   "display_name": "Python 3 (ipykernel)",
   "language": "python",
   "name": "python3"
  },
  "language_info": {
   "codemirror_mode": {
    "name": "ipython",
    "version": 3
   },
   "file_extension": ".py",
   "mimetype": "text/x-python",
   "name": "python",
   "nbconvert_exporter": "python",
   "pygments_lexer": "ipython3",
   "version": "3.11.7"
  }
 },
 "nbformat": 4,
 "nbformat_minor": 5
}
